{
 "cells": [
  {
   "cell_type": "code",
   "execution_count": 3,
   "id": "3e55bc60-25c1-4a02-8d84-63429d892701",
   "metadata": {
    "id": "3e55bc60-25c1-4a02-8d84-63429d892701",
    "tags": []
   },
   "outputs": [
    {
     "name": "stdout",
     "output_type": "stream",
     "text": [
      "Hello World\n"
     ]
    }
   ],
   "source": [
    "print('Hello World')"
   ]
  },
  {
   "cell_type": "code",
   "execution_count": null,
   "id": "cc8e8601-bc97-4ca1-ae7b-e719705b116f",
   "metadata": {
    "id": "cc8e8601-bc97-4ca1-ae7b-e719705b116f"
   },
   "outputs": [],
   "source": []
  }
 ],
 "metadata": {
  "kernelspec": {
   "display_name": "Python 3.9",
   "language": "python",
   "name": "python3"
  },
  "language_info": {
   "codemirror_mode": {
    "name": "ipython",
    "version": 3
   },
   "file_extension": ".py",
   "mimetype": "text/x-python",
   "name": "python",
   "nbconvert_exporter": "python",
   "pygments_lexer": "ipython3",
   "version": "3.9.12"
  }
 },
 "nbformat": 4,
 "nbformat_minor": 5
}
